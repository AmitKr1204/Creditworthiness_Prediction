{
 "cells": [
  {
   "cell_type": "code",
   "execution_count": null,
   "id": "d1b6797c",
   "metadata": {},
   "outputs": [],
   "source": [
    "import numpy as np\n",
    "import pandas as pd\n",
    "import matplotlib.pyplot as plt\n",
    "import seaborn as sns"
   ]
  },
  {
   "cell_type": "code",
   "execution_count": null,
   "id": "81960d48",
   "metadata": {},
   "outputs": [],
   "source": [
    "from importlib import reload\n",
    "import matplotlib.pyplot as plt\n",
    "reload(plt)\n"
   ]
  },
  {
   "cell_type": "code",
   "execution_count": null,
   "id": "c33153dd",
   "metadata": {},
   "outputs": [],
   "source": [
    "\n",
    "print(type(sns))\n",
    "print(type(plt))\n",
    "print(type(plt.title))\n"
   ]
  },
  {
   "cell_type": "code",
   "execution_count": null,
   "id": "f19dddd9",
   "metadata": {},
   "outputs": [],
   "source": [
    "import numpy as np\n",
    "import pandas as pd\n",
    "import matplotlib.pyplot as plt\n",
    "import seaborn as sns"
   ]
  },
  {
   "cell_type": "code",
   "execution_count": null,
   "id": "8fa87998",
   "metadata": {},
   "outputs": [],
   "source": [
    "pd.set_option(\"display.max_columns\", None)"
   ]
  },
  {
   "cell_type": "code",
   "execution_count": null,
   "id": "23cfdefd",
   "metadata": {},
   "outputs": [],
   "source": [
    "sns.set_style(\"whitegrid\")"
   ]
  },
  {
   "cell_type": "code",
   "execution_count": null,
   "id": "1b7214a9",
   "metadata": {},
   "outputs": [],
   "source": [
    "df = pd.read_csv(\"german_credit_data.csv\")"
   ]
  },
  {
   "cell_type": "code",
   "execution_count": null,
   "id": "fdd523da",
   "metadata": {},
   "outputs": [],
   "source": [
    "df.head()"
   ]
  },
  {
   "cell_type": "code",
   "execution_count": null,
   "id": "b06860f7",
   "metadata": {},
   "outputs": [],
   "source": [
    "df[\"Age\"].describe()"
   ]
  },
  {
   "cell_type": "markdown",
   "id": "b9652333",
   "metadata": {},
   "source": [
    "In the checking account columns we can see a number of rows are NAN. So keeping it or replacing it with some sther value is of no meaning, so we will drop that.\n",
    "\n",
    "In Risk column Good means low risk and high bad means high risk"
   ]
  },
  {
   "cell_type": "code",
   "execution_count": null,
   "id": "b078a421",
   "metadata": {},
   "outputs": [],
   "source": [
    "df['Risk'].value_counts()"
   ]
  },
  {
   "cell_type": "code",
   "execution_count": null,
   "id": "ed307ae5",
   "metadata": {},
   "outputs": [],
   "source": [
    "df.shape"
   ]
  },
  {
   "cell_type": "code",
   "execution_count": null,
   "id": "98323098",
   "metadata": {},
   "outputs": [],
   "source": [
    "df.info()"
   ]
  },
  {
   "cell_type": "code",
   "execution_count": null,
   "id": "79b3c686",
   "metadata": {},
   "outputs": [],
   "source": [
    "df.describe(include =\"all\").T"
   ]
  },
  {
   "cell_type": "code",
   "execution_count": null,
   "id": "b73408a2",
   "metadata": {},
   "outputs": [],
   "source": [
    "df[\"Job\"].unique()"
   ]
  },
  {
   "cell_type": "code",
   "execution_count": null,
   "id": "f1a19c73",
   "metadata": {},
   "outputs": [],
   "source": [
    "df.isna().sum()"
   ]
  },
  {
   "cell_type": "code",
   "execution_count": null,
   "id": "0dc9e932",
   "metadata": {},
   "outputs": [],
   "source": [
    "df.duplicated().sum()"
   ]
  },
  {
   "cell_type": "code",
   "execution_count": null,
   "id": "a0688eec",
   "metadata": {},
   "outputs": [],
   "source": [
    "df = df.dropna().reset_index(drop=True)"
   ]
  },
  {
   "cell_type": "code",
   "execution_count": null,
   "id": "6da5de2a",
   "metadata": {},
   "outputs": [],
   "source": [
    "df"
   ]
  },
  {
   "cell_type": "code",
   "execution_count": null,
   "id": "7c78747b",
   "metadata": {},
   "outputs": [],
   "source": [
    "df.columns"
   ]
  },
  {
   "cell_type": "code",
   "execution_count": null,
   "id": "8b593dce",
   "metadata": {},
   "outputs": [],
   "source": [
    "df.drop(columns = \"Unnamed: 0\", inplace = True)"
   ]
  },
  {
   "cell_type": "code",
   "execution_count": null,
   "id": "e6cb9a67",
   "metadata": {},
   "outputs": [],
   "source": [
    "df.columns"
   ]
  },
  {
   "cell_type": "code",
   "execution_count": null,
   "id": "72d7d32b",
   "metadata": {},
   "outputs": [],
   "source": [
    "df[[\"Age\",\"Credit amount\",\"Duration\"]].hist(bins = 10, edgecolor = \"black\")\n",
    "plt.suptitle(\"distribution of Numerical Feature\", fontsize = 14)\n",
    "plt.show()"
   ]
  },
  {
   "cell_type": "code",
   "execution_count": null,
   "id": "e0be3565",
   "metadata": {},
   "outputs": [],
   "source": [
    "plt.figure(figsize= (10,5))\n",
    "for i , col in enumerate ([\"Age\",\"Credit amount\",\"Duration\"]):\n",
    "    plt.subplot(1, 3,i + 1)\n",
    "    sns.boxplot(y = df[col], color = \"skyblue\")\n",
    "    plt.title(col)\n",
    "plt.tight_layout\n",
    "plt.show()"
   ]
  },
  {
   "cell_type": "code",
   "execution_count": null,
   "id": "0778a321",
   "metadata": {},
   "outputs": [],
   "source": [
    "df.query(\"Duration >= 60\")"
   ]
  },
  {
   "cell_type": "code",
   "execution_count": null,
   "id": "e6c22dd3",
   "metadata": {},
   "outputs": [],
   "source": [
    "categorical_cols = [\"Sex\",\"Job\",\"Housing\",\"Saving accounts\",\"Checking account\",\"Purpose\"]"
   ]
  },
  {
   "cell_type": "code",
   "execution_count": null,
   "id": "aa1e7be6",
   "metadata": {},
   "outputs": [],
   "source": [
    "plt.figure(figsize = (5,10))\n",
    "for i , col in enumerate(categorical_cols):\n",
    "    plt.subplot(3,3,i+1)\n",
    "    sns.countplot(data = df, x = col, palette = \"Set2\", order = df[col].value_counts().index)\n",
    "    plt.title(f\"Distribution of {col}\")\n",
    "    plt.xticks(rotation=45)\n",
    "plt.tight_layout\n",
    "plt.show()"
   ]
  },
  {
   "cell_type": "code",
   "execution_count": null,
   "id": "16cd24d3",
   "metadata": {},
   "outputs": [],
   "source": [
    "corr = df[[\"Age\",\"Job\",\"Credit amount\",\"Duration\"]].corr()"
   ]
  },
  {
   "cell_type": "code",
   "execution_count": null,
   "id": "2b4660d2",
   "metadata": {},
   "outputs": [],
   "source": [
    "corr"
   ]
  },
  {
   "cell_type": "code",
   "execution_count": null,
   "id": "af37dcac",
   "metadata": {},
   "outputs": [],
   "source": [
    "sns.heatmap(corr, annot = True, cmap = \"coolwarm\", fmt = \".2f\")\n",
    "plt.show()"
   ]
  },
  {
   "cell_type": "code",
   "execution_count": null,
   "id": "82cee6ce",
   "metadata": {},
   "outputs": [],
   "source": [
    "df.groupby(\"Job\")[\"Credit amount\"].mean()"
   ]
  },
  {
   "cell_type": "code",
   "execution_count": null,
   "id": "9461dd08",
   "metadata": {},
   "outputs": [],
   "source": [
    "df.groupby(\"Sex\")[\"Credit amount\"].mean()"
   ]
  },
  {
   "cell_type": "code",
   "execution_count": null,
   "id": "f679cb2c",
   "metadata": {},
   "outputs": [],
   "source": [
    "pd.pivot_table(df, values = \"Credit amount\",index = \"Housing\", columns = \"Purpose\")"
   ]
  },
  {
   "cell_type": "code",
   "execution_count": null,
   "id": "d9348df5",
   "metadata": {},
   "outputs": [],
   "source": [
    "sns.scatterplot(data = df, x = \"Age\", y = \"Credit amount\",hue = \"Sex\", size = \"Duration\")\n",
    "plt.title(\"Credit amount VS Age colored by Sex and sized by Duration\")\n",
    "plt.show()"
   ]
  },
  {
   "cell_type": "code",
   "execution_count": null,
   "id": "aa153791",
   "metadata": {},
   "outputs": [],
   "source": [
    "sns.violinplot(data = df, x = \"Saving accounts\", y = \"Credit amount\",palette=\"pastel\")\n",
    "plt.title = \"Credit amount Vs Saving account\"\n",
    "plt.show()"
   ]
  },
  {
   "cell_type": "code",
   "execution_count": null,
   "id": "3a518b21",
   "metadata": {},
   "outputs": [],
   "source": [
    "df[\"Risk\"].value_counts(normalize = True) * 100"
   ]
  },
  {
   "cell_type": "code",
   "execution_count": null,
   "id": "07cc2fe6",
   "metadata": {},
   "outputs": [],
   "source": [
    "from matplotlib import pyplot\n",
    "import matplotlib.pyplot as plt\n",
    "plt.title = pyplot.title\n",
    "print(type(plt.title))\n"
   ]
  },
  {
   "cell_type": "code",
   "execution_count": null,
   "id": "e79cc6f6",
   "metadata": {},
   "outputs": [],
   "source": [
    "from importlib import reload\n",
    "import matplotlib.pyplot as plt\n",
    "reload(plt)"
   ]
  },
  {
   "cell_type": "code",
   "execution_count": null,
   "id": "b4316d94",
   "metadata": {},
   "outputs": [],
   "source": [
    "plt.figure(figsize=(15, 4))\n",
    "\n",
    "for i, col in enumerate([\"Age\", \"Credit amount\", \"Duration\"]):\n",
    "    plt.subplot(1, 3, i + 1)\n",
    "    sns.boxplot(data=df, x=\"Risk\", y=col, palette=\"Pastel2\")\n",
    "    plt.title(f\"{col} by Risk\")\n",
    "\n",
    "plt.tight_layout()\n",
    "plt.show()"
   ]
  },
  {
   "cell_type": "code",
   "execution_count": null,
   "id": "9c343642",
   "metadata": {},
   "outputs": [],
   "source": [
    "df.groupby(\"Risk\")[[\"Age\",\"Credit amount\",\"Duration\"]].mean()"
   ]
  },
  {
   "cell_type": "code",
   "execution_count": null,
   "id": "793a7121",
   "metadata": {},
   "outputs": [],
   "source": [
    "categorical_cols"
   ]
  },
  {
   "cell_type": "code",
   "execution_count": null,
   "id": "f7808103",
   "metadata": {},
   "outputs": [],
   "source": [
    "print(type(plt.title))"
   ]
  },
  {
   "cell_type": "code",
   "execution_count": null,
   "id": "42cc07cd",
   "metadata": {},
   "outputs": [],
   "source": [
    "from importlib import reload\n",
    "import matplotlib.pyplot as plt\n",
    "reload(plt)"
   ]
  },
  {
   "cell_type": "code",
   "execution_count": null,
   "id": "24794350",
   "metadata": {},
   "outputs": [],
   "source": [
    "plt.figure(figsize = (10,10))\n",
    "for i , col in enumerate(categorical_cols):\n",
    "    plt.subplot(3, 3, i + 1)\n",
    "    sns.countplot(data = df, x = col, hue = \"Risk\", palette = \"Set1\", order = df[col].value_counts().index)\n",
    "    plt.title(f\"{col} by Risk\")\n",
    "    plt.xticks(rotation = 45)\n",
    "plt.tight_layout()\n",
    "plt.show()"
   ]
  },
  {
   "cell_type": "code",
   "execution_count": null,
   "id": "4a383751",
   "metadata": {},
   "outputs": [],
   "source": [
    "df.columns"
   ]
  },
  {
   "cell_type": "code",
   "execution_count": null,
   "id": "1dec91d8",
   "metadata": {},
   "outputs": [],
   "source": [
    "features = [\"Age\",\"Sex\",\"Job\",\"Housing\",\"Saving accounts\",\"Checking account\",\"Credit amount\",\"Duration\"]"
   ]
  },
  {
   "cell_type": "code",
   "execution_count": null,
   "id": "a5ed25bd",
   "metadata": {},
   "outputs": [],
   "source": [
    "target = \"Risk\""
   ]
  },
  {
   "cell_type": "code",
   "execution_count": null,
   "id": "20a92fcd",
   "metadata": {},
   "outputs": [],
   "source": [
    "df_model = df[features + [target]].copy()"
   ]
  },
  {
   "cell_type": "code",
   "execution_count": null,
   "id": "ab1c937c",
   "metadata": {},
   "outputs": [],
   "source": [
    "df_model.head()"
   ]
  },
  {
   "cell_type": "code",
   "execution_count": null,
   "id": "a43bc276",
   "metadata": {},
   "outputs": [],
   "source": [
    "from sklearn.preprocessing import LabelEncoder\n",
    "import joblib"
   ]
  },
  {
   "cell_type": "code",
   "execution_count": null,
   "id": "7eb02fdd",
   "metadata": {},
   "outputs": [],
   "source": [
    "cat_cols = df_model.select_dtypes(include = \"object\").columns.drop(\"Risk\")\n"
   ]
  },
  {
   "cell_type": "code",
   "execution_count": null,
   "id": "6977b07a",
   "metadata": {},
   "outputs": [],
   "source": [
    "le_dict = {}"
   ]
  },
  {
   "cell_type": "code",
   "execution_count": null,
   "id": "10d8f94f",
   "metadata": {},
   "outputs": [],
   "source": [
    "cat_cols"
   ]
  },
  {
   "cell_type": "code",
   "execution_count": null,
   "id": "5bb05a63",
   "metadata": {},
   "outputs": [],
   "source": [
    "for col in cat_cols:\n",
    "    le = LabelEncoder()\n",
    "    df_model[col] = le.fit_transform(df_model[col])\n",
    "    le_dict[col] = le\n",
    "    joblib.dump(le, f\"{col}_encoder.pkl\")"
   ]
  },
  {
   "cell_type": "code",
   "execution_count": null,
   "id": "7897ff61",
   "metadata": {},
   "outputs": [],
   "source": [
    "le_target = LabelEncoder()"
   ]
  },
  {
   "cell_type": "code",
   "execution_count": null,
   "id": "70ca2685",
   "metadata": {},
   "outputs": [],
   "source": [
    "target"
   ]
  },
  {
   "cell_type": "code",
   "execution_count": null,
   "id": "8c7f33c0",
   "metadata": {},
   "outputs": [],
   "source": [
    "df_model[target] = le_target.fit_transform(df_model[target])"
   ]
  },
  {
   "cell_type": "code",
   "execution_count": null,
   "id": "98a70bff",
   "metadata": {},
   "outputs": [],
   "source": [
    "df_model[target]"
   ]
  },
  {
   "cell_type": "code",
   "execution_count": null,
   "id": "d237659e",
   "metadata": {},
   "outputs": [],
   "source": [
    "joblib.dump(le_target, \"target_encoder.pkl\")"
   ]
  },
  {
   "cell_type": "code",
   "execution_count": null,
   "id": "87c44a42",
   "metadata": {},
   "outputs": [],
   "source": [
    "from sklearn.model_selection import train_test_split"
   ]
  },
  {
   "cell_type": "code",
   "execution_count": null,
   "id": "7b7596d4",
   "metadata": {},
   "outputs": [],
   "source": [
    "X = df_model.drop(target, axis = 1)"
   ]
  },
  {
   "cell_type": "code",
   "execution_count": null,
   "id": "241eb2f4",
   "metadata": {},
   "outputs": [],
   "source": [
    "y = df_model[target]"
   ]
  },
  {
   "cell_type": "code",
   "execution_count": null,
   "id": "4c0cf2d9",
   "metadata": {},
   "outputs": [],
   "source": [
    "X"
   ]
  },
  {
   "cell_type": "code",
   "execution_count": null,
   "id": "e4a58a39",
   "metadata": {},
   "outputs": [],
   "source": [
    "y"
   ]
  },
  {
   "cell_type": "code",
   "execution_count": null,
   "id": "53aa895c",
   "metadata": {},
   "outputs": [],
   "source": [
    "X_train, X_test, y_train, y_test = train_test_split(X, y, test_size=0.2, stratify = y, random_state=1)"
   ]
  },
  {
   "cell_type": "code",
   "execution_count": null,
   "id": "e2272dbd",
   "metadata": {},
   "outputs": [],
   "source": [
    "X_train.shape"
   ]
  },
  {
   "cell_type": "code",
   "execution_count": null,
   "id": "72e37761",
   "metadata": {},
   "outputs": [],
   "source": [
    "X_test.shape"
   ]
  },
  {
   "cell_type": "code",
   "execution_count": null,
   "id": "5fbceef0",
   "metadata": {},
   "outputs": [],
   "source": [
    "from sklearn.tree import DecisionTreeClassifier\n",
    "from sklearn.ensemble import RandomForestClassifier, ExtraTreesClassifier\n",
    "from xgboost import XGBClassifier\n",
    "from sklearn.metrics import accuracy_score\n",
    "from sklearn.model_selection import GridSearchCV"
   ]
  },
  {
   "cell_type": "code",
   "execution_count": null,
   "id": "05954a53",
   "metadata": {},
   "outputs": [],
   "source": [
    "def train_model(model, param_grid, X_train, y_train, X_test, y_test):\n",
    "    grid = GridSearchCV(model, param_grid, cv = 5, scoring = \"accuracy\", n_jobs = -1)\n",
    "    grid.fit(X_train, y_train)\n",
    "    best_model = grid.best_estimator_\n",
    "    y_pred = best_model.predict(X_test)\n",
    "    acc = accuracy_score(y_test, y_pred)\n",
    "    return best_model, acc, grid.best_params_\n"
   ]
  },
  {
   "cell_type": "code",
   "execution_count": null,
   "id": "0f38317b",
   "metadata": {},
   "outputs": [],
   "source": [
    "dt = DecisionTreeClassifier(random_state = 1, class_weight=\"balanced\")\n",
    "dt_param_grid = {\n",
    "    \"max_depth\" : [3,5,7,10,None],\n",
    "    \"min_samples_split\" : [2,5,10],\n",
    "    \"min_samples_leaf\" : [1,2,4]\n",
    "}"
   ]
  },
  {
   "cell_type": "code",
   "execution_count": null,
   "id": "5f7ecbaa",
   "metadata": {},
   "outputs": [],
   "source": [
    "best_dt, acc_dt, params_dt = train_model(dt, dt_param_grid, X_train, y_train, X_test, y_test)"
   ]
  },
  {
   "cell_type": "code",
   "execution_count": null,
   "id": "20ff6000",
   "metadata": {},
   "outputs": [],
   "source": [
    "print(\"Decision Tree Accurcay\", acc_dt)"
   ]
  },
  {
   "cell_type": "code",
   "execution_count": null,
   "id": "808ccef7",
   "metadata": {},
   "outputs": [],
   "source": [
    "print(\"Best parameters\", params_dt)"
   ]
  },
  {
   "cell_type": "code",
   "execution_count": null,
   "id": "9b4a1d71",
   "metadata": {},
   "outputs": [],
   "source": [
    "rf = RandomForestClassifier(random_state = 1, class_weight=\"balanced\", n_jobs = -1)"
   ]
  },
  {
   "cell_type": "code",
   "execution_count": null,
   "id": "e1be2b85",
   "metadata": {},
   "outputs": [],
   "source": [
    "rf_param_grid = {\n",
    "    \"n_estimators\": [100,200],\n",
    "    \"max_depth\" : [5,7,10,None],\n",
    "    \"min_samples_split\" : [2,5,10],\n",
    "    \"min_samples_leaf\" : [1,2,4]\n",
    "}"
   ]
  },
  {
   "cell_type": "code",
   "execution_count": null,
   "id": "1c54ce7a",
   "metadata": {},
   "outputs": [],
   "source": [
    "best_rf, acc_rf, params_rf = train_model(rf, rf_param_grid, X_train, y_train, X_test, y_test)"
   ]
  },
  {
   "cell_type": "code",
   "execution_count": null,
   "id": "24fa13b6",
   "metadata": {},
   "outputs": [],
   "source": [
    "print(\"Random Forest Accuracy\", acc_rf)"
   ]
  },
  {
   "cell_type": "code",
   "execution_count": null,
   "id": "1eb1b717",
   "metadata": {},
   "outputs": [],
   "source": [
    "print(\"Best params\", params_rf)"
   ]
  },
  {
   "cell_type": "code",
   "execution_count": null,
   "id": "27add7d3",
   "metadata": {},
   "outputs": [],
   "source": [
    "et = ExtraTreesClassifier(random_state=1, class_weight=\"balanced\",n_jobs=-1)"
   ]
  },
  {
   "cell_type": "code",
   "execution_count": null,
   "id": "6d5b9b5e",
   "metadata": {},
   "outputs": [],
   "source": [
    "et_param_grid = {\n",
    "    \"n_estimators\": [100,200],\n",
    "    \"max_depth\" : [5,7,10,None],\n",
    "    \"min_samples_split\" : [2,5,10],\n",
    "    \"min_samples_leaf\" : [1,2,4]\n",
    "}"
   ]
  },
  {
   "cell_type": "code",
   "execution_count": null,
   "id": "61609038",
   "metadata": {},
   "outputs": [],
   "source": [
    "best_et, acc_et, param_et = train_model(et, et_param_grid,X_train,y_train, X_test, y_test)"
   ]
  },
  {
   "cell_type": "code",
   "execution_count": null,
   "id": "3f108d24",
   "metadata": {},
   "outputs": [],
   "source": [
    "print(\"Extra Tree Accuracy\", acc_et)"
   ]
  },
  {
   "cell_type": "code",
   "execution_count": null,
   "id": "15714d57",
   "metadata": {},
   "outputs": [],
   "source": [
    "print(\"Best Parameters\",param_et)"
   ]
  },
  {
   "cell_type": "code",
   "execution_count": null,
   "id": "d55e7b5c",
   "metadata": {},
   "outputs": [],
   "source": [
    "xgb = XGBClassifier(random_state = 1, scale_pos_weight = (y_train == 0).sum()/(y_train == 1).sum(), use_LabelEncoder = False, eval_metric = \"logloss\")"
   ]
  },
  {
   "cell_type": "code",
   "execution_count": null,
   "id": "0916582f",
   "metadata": {},
   "outputs": [],
   "source": [
    "xgb_param_grid = {\n",
    "    \"n_estimators\":[100,200],\n",
    "    \"max_depth\" : [3,5,7],\n",
    "    \"learning_rate\": [0.01, 0.1, 0.2],\n",
    "    \"subsample\" : [0.7, 1],\n",
    "    \"colsample_bytree\" : [0.7, 1]\n",
    "}"
   ]
  },
  {
   "cell_type": "code",
   "execution_count": null,
   "id": "103e6b68",
   "metadata": {},
   "outputs": [],
   "source": [
    "best_xgb, acc_xgb, param_xgb = train_model(xgb, xgb_param_grid,X_train,y_train, X_test, y_test)"
   ]
  },
  {
   "cell_type": "code",
   "execution_count": null,
   "id": "e999d12b",
   "metadata": {},
   "outputs": [],
   "source": [
    "print(\"XGB accuracy\",acc_xgb)"
   ]
  },
  {
   "cell_type": "code",
   "execution_count": null,
   "id": "b976ae14",
   "metadata": {},
   "outputs": [],
   "source": [
    "print(\"Best_params\",param_xgb)"
   ]
  },
  {
   "cell_type": "code",
   "execution_count": null,
   "id": "1a8bd93e",
   "metadata": {},
   "outputs": [],
   "source": [
    "best_et.predict(X_test)"
   ]
  },
  {
   "cell_type": "code",
   "execution_count": null,
   "id": "1340d3c6",
   "metadata": {},
   "outputs": [],
   "source": [
    "joblib.dump(best_et, \"extra_trees_credit_model.pkl\")"
   ]
  },
  {
   "cell_type": "code",
   "execution_count": null,
   "id": "e7148022",
   "metadata": {},
   "outputs": [],
   "source": []
  }
 ],
 "metadata": {
  "kernelspec": {
   "display_name": "Python 3",
   "language": "python",
   "name": "python3"
  },
  "language_info": {
   "codemirror_mode": {
    "name": "ipython",
    "version": 3
   },
   "file_extension": ".py",
   "mimetype": "text/x-python",
   "name": "python",
   "nbconvert_exporter": "python",
   "pygments_lexer": "ipython3",
   "version": "3.12.0"
  }
 },
 "nbformat": 4,
 "nbformat_minor": 5
}
